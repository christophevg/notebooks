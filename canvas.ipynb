{
 "cells": [
  {
   "cell_type": "markdown",
   "id": "adef5183-4bfa-4db6-a152-e936821f2a75",
   "metadata": {},
   "source": [
    "# Canvas using ipycanvas\n",
    "\n",
    "[https://ipycanvas.readthedocs.io/en/latest/index.html](https://ipycanvas.readthedocs.io/en/latest/index.html)"
   ]
  },
  {
   "cell_type": "code",
   "execution_count": 13,
   "id": "1e9c7427-0b75-4383-97e7-057eadee2485",
   "metadata": {},
   "outputs": [
    {
     "data": {
      "application/vnd.jupyter.widget-view+json": {
       "model_id": "8ded8ed681c24f599913016d4dd340ee",
       "version_major": 2,
       "version_minor": 0
      },
      "text/plain": [
       "Canvas(sync_image_data=True, width=800)"
      ]
     },
     "execution_count": 13,
     "metadata": {},
     "output_type": "execute_result"
    }
   ],
   "source": [
    "import numpy as np\n",
    "\n",
    "from ipycanvas import Canvas\n",
    "\n",
    "n_particles = 100_000\n",
    "\n",
    "x = np.array(np.random.rayleigh(250, n_particles), dtype=np.int32)\n",
    "y = np.array(np.random.rayleigh(250, n_particles), dtype=np.int32)\n",
    "size = np.random.randint(1, 3, n_particles)\n",
    "\n",
    "canvas = Canvas(width=800, height=500, sync_image_data=True)\n",
    "\n",
    "canvas.fill_style = \"green\"\n",
    "canvas.fill_rects(x, y, size)\n",
    "\n",
    "canvas"
   ]
  },
  {
   "cell_type": "code",
   "execution_count": 12,
   "id": "5f340ec7-7ff6-4b83-8e4d-3faf00f4d795",
   "metadata": {},
   "outputs": [],
   "source": [
    "canvas.to_file(\"example.png\")"
   ]
  },
  {
   "cell_type": "markdown",
   "id": "95535787-3faf-4a3d-b4b3-f0588e73aa2f",
   "metadata": {},
   "source": [
    "![example.png](example.png)"
   ]
  }
 ],
 "metadata": {
  "kernelspec": {
   "display_name": "Python 3 (ipykernel)",
   "language": "python",
   "name": "python3"
  },
  "language_info": {
   "codemirror_mode": {
    "name": "ipython",
    "version": 3
   },
   "file_extension": ".py",
   "mimetype": "text/x-python",
   "name": "python",
   "nbconvert_exporter": "python",
   "pygments_lexer": "ipython3",
   "version": "3.8.12"
  }
 },
 "nbformat": 4,
 "nbformat_minor": 5
}
