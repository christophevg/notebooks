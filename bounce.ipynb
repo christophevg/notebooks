{
 "cells": [
  {
   "cell_type": "markdown",
   "id": "aac204d8-fef6-44a3-97bf-bd0dcc639ebc",
   "metadata": {},
   "source": [
    "# Bounce\n",
    "\n",
    "Inspired by a recent slew of posts on AI generating a Python program rendering a rotating square with a bouncing ball inside it, I wanted to revive some old knowledge, spice it up with additional information and teach myself to implement this adhering to some of my Pytonic principles."
   ]
  },
  {
   "cell_type": "markdown",
   "id": "026902ae-156d-4897-9f5b-844baf85cef7",
   "metadata": {},
   "source": [
    "## Step 1: Point, Vectors, Vertices and Polygons\n",
    "\n",
    "Let's start with the very basics: a few classes to hold information for polygons and their vertices and have them drawn onto a canvas:"
   ]
  },
  {
   "cell_type": "code",
   "execution_count": 1,
   "id": "e4aad307-22bb-45ac-96a9-cf4b266746f7",
   "metadata": {},
   "outputs": [
    {
     "data": {
      "application/vnd.jupyter.widget-view+json": {
       "model_id": "6151ec90262f4e76b2cbc806de4cac5b",
       "version_major": 2,
       "version_minor": 0
      },
      "text/plain": [
       "Canvas(height=400, sync_image_data=True, width=800)"
      ]
     },
     "execution_count": 1,
     "metadata": {},
     "output_type": "execute_result"
    }
   ],
   "source": [
    "from dataclasses import dataclass, field\n",
    "from typing import List\n",
    "\n",
    "from ipycanvas import Canvas\n",
    "\n",
    "@dataclass\n",
    "class Vector:\n",
    "    dx : float\n",
    "    dy : float\n",
    "\n",
    "    def __iter__(self):\n",
    "        \"\"\"\n",
    "        allows for applying tuple()\n",
    "        \"\"\"\n",
    "        yield self.dx\n",
    "        yield self.dy\n",
    "\n",
    "    def __truediv__(self, divider):\n",
    "        return Vector(self.dx / divider, self.dy / divider)\n",
    "\n",
    "@dataclass\n",
    "class Point:\n",
    "    x : float\n",
    "    y : float\n",
    "\n",
    "    def __sub__(self, other):\n",
    "        return Vector(self.x - other.x, self.y - other.y)\n",
    "\n",
    "    def apply(self, transformation):\n",
    "        (self.x, self.y, _) = transformation @ np.array([self.x, self.y, 1])\n",
    "        return self\n",
    "    \n",
    "    def __iter__(self):\n",
    "        \"\"\"\n",
    "        allows for applying tuple()\n",
    "        \"\"\"\n",
    "        yield self.x\n",
    "        yield self.y\n",
    "\n",
    "class Vertex(Point):\n",
    "    pass\n",
    "\n",
    "@dataclass\n",
    "class Polygon(List):\n",
    "    vertices : List[Vertex] = field(default_factory=list)\n",
    "    stroke   : str          = \"000000\"\n",
    "    fill     : str          = None\n",
    "\n",
    "    def render(self, canvas):\n",
    "        if self.fill:\n",
    "            canvas.fill_style   = f\"#{self.fill}\"\n",
    "            canvas.fill_polygon(self)\n",
    "        \n",
    "        canvas.stroke_style = f\"#{self.stroke}\"\n",
    "        canvas.stroke_polygon(self)\n",
    "\n",
    "    def __iter__(self):\n",
    "        \"\"\"\n",
    "        behave as a list, returning tuple versions of the vertices\n",
    "        \"\"\"\n",
    "        for vertex in self.vertices:\n",
    "            yield tuple(vertex)\n",
    "\n",
    "canvas = Canvas(width=800, height=400, sync_image_data=True)\n",
    "\n",
    "polygon1 = Polygon([ Vertex(100, 100), Vertex(150, 240), Vertex(50, 370) ])\n",
    "polygon1.render(canvas)\n",
    "\n",
    "polygon2 = Polygon([ Vertex(120, 120), Vertex(250,  50), Vertex(200, 270) ], stroke=\"00ff00\")\n",
    "polygon2.render(canvas)\n",
    "\n",
    "polygon3 = Polygon([ Vertex(300, 100), Vertex(350, 240), Vertex(250, 370) ])\n",
    "polygon3.render(canvas)\n",
    "\n",
    "polygon4 = Polygon([ Vertex(295, 180), Vertex(425, 110), Vertex(375, 330) ], stroke=\"ff0000\")\n",
    "polygon4.render(canvas)\n",
    "\n",
    "canvas"
   ]
  },
  {
   "cell_type": "markdown",
   "id": "631f4b92-2e09-4290-af55-c291c70695d6",
   "metadata": {},
   "source": [
    "I've drawn two situations of the same two polygons, one where they intersect and one where they don't. But I had to define them using explcit vertices. Wouldn't it be nicer if I could duplicate them and move them around? Let's introduce support for doing just that."
   ]
  },
  {
   "cell_type": "markdown",
   "id": "34e18eec-c27f-47fc-a007-598e24290c84",
   "metadata": {},
   "source": [
    "## Step 2: Transforming Polygons\n",
    "\n",
    "To make this really useful, I basically want to `apply` transformations to polygons. To do so, I'll use transformation matrices, which makes this ultra genric and useful for a lot of things to come. To do so, the Polygon class is extended using a list of such transformations, which it applies on the fly when producing (x,y) coordinates.\n",
    "\n",
    "E.g. to implement a translation by 200 along the X-axis, we use a transformation matrix:\n",
    "\n",
    "```\n",
    " | 1 0 200 |   | x |\n",
    " | 0 1   0 | @ | y |\n",
    " | 0 0   1 |   | 1 |\n",
    "```"
   ]
  },
  {
   "cell_type": "code",
   "execution_count": 2,
   "id": "873fffbb-db50-42da-b83c-70b4c8cb577e",
   "metadata": {},
   "outputs": [
    {
     "data": {
      "application/vnd.jupyter.widget-view+json": {
       "model_id": "1b34c5227b2d4fb19bea563cd553ea6c",
       "version_major": 2,
       "version_minor": 0
      },
      "text/plain": [
       "Canvas(height=400, sync_image_data=True, width=800)"
      ]
     },
     "execution_count": 2,
     "metadata": {},
     "output_type": "execute_result"
    }
   ],
   "source": [
    "from copy import deepcopy\n",
    "import numpy as np\n",
    "\n",
    "@dataclass\n",
    "class Polygon(List):\n",
    "    vertices        : List[Vertex]     = field(default_factory=list)\n",
    "    stroke          : str              = \"000000\"\n",
    "    fill            : str              = None\n",
    "    transformations : List[np.ndarray] = field(default_factory=list)\n",
    "\n",
    "    def render(self, canvas):\n",
    "        if self.fill:\n",
    "            canvas.fill_style   = f\"#{self.fill}\"\n",
    "            canvas.fill_polygon(self)\n",
    "        \n",
    "        canvas.stroke_style = f\"#{self.stroke}\"\n",
    "        canvas.stroke_polygon(self)\n",
    "\n",
    "    def apply(self, transformation):\n",
    "        \"\"\"\n",
    "        apply one transformation\n",
    "        \"\"\"\n",
    "        self.vertices = [ vertex.apply(transformation) for vertex in self.vertices ]\n",
    "        return self\n",
    "    \n",
    "    def transform(self, clear=True):\n",
    "        \"\"\"\n",
    "        apply all transformations\n",
    "        \"\"\"\n",
    "        for transformation in self.transformations:\n",
    "           self.apply(transformation)\n",
    "        # optionally clear when applied\n",
    "        if clear:\n",
    "            self.transformations.clear()\n",
    "        return self\n",
    "\n",
    "    def __iter__(self):\n",
    "        \"\"\"\n",
    "        behave as a list, returning tuple versions of the vertices\n",
    "        \"\"\"\n",
    "        for vertex in self.vertices:\n",
    "            yield tuple(vertex)\n",
    "\n",
    "canvas = Canvas(width=800, height=400, sync_image_data=True)\n",
    "\n",
    "polygon1 = Polygon([ Vertex(100, 100), Vertex(150, 240),Vertex(50, 370) ])\n",
    "polygon1.render(canvas)\n",
    "\n",
    "polygon2 = Polygon([ Vertex(120, 120), Vertex(250, 50),Vertex(200, 270) ], stroke=\"00ff00\")\n",
    "polygon2.render(canvas)\n",
    "\n",
    "def translate(dx=0, dy=0):\n",
    "    return np.array([\n",
    "        [ 1, 0, dx ],\n",
    "        [ 0, 1, dy ],\n",
    "        [ 0, 0, 1  ]\n",
    "    ])\n",
    "\n",
    "polygon3 = deepcopy(polygon1)\n",
    "polygon3.transformations.append(translate(dx=200))\n",
    "polygon3.transform().render(canvas)\n",
    "\n",
    "polygon4 = deepcopy(polygon2)\n",
    "polygon4.stroke = \"ff0000\"\n",
    "polygon4.fill = \"ff0000\"\n",
    "polygon4.transformations.append(translate(dx=175))\n",
    "polygon4.transformations.append(translate(dy=60))\n",
    "polygon4.transform().render(canvas)\n",
    "\n",
    "canvas"
   ]
  },
  {
   "cell_type": "markdown",
   "id": "762ae8ff-7d02-4f25-b656-797ee136faa4",
   "metadata": {},
   "source": [
    "Let's have some fun and throw some rotation in the mix. A rotation around the origin is defined by a transformation matrix with the following structure:\n",
    "\n",
    "```\n",
    " | cos a  -sin a 0 |\n",
    " | sin x   cos a 0 |\n",
    " | 0       0     1 |\n",
    "```\n",
    "\n",
    "And combining this with the translation, we can implement a rotation around an arbitrary point:"
   ]
  },
  {
   "cell_type": "code",
   "execution_count": 3,
   "id": "3c99d17d-ca26-4cce-b990-63e45ce96a31",
   "metadata": {},
   "outputs": [
    {
     "name": "stdout",
     "output_type": "stream",
     "text": [
      "[[  0.93969262  -0.34202014  91.42412834]\n",
      " [  0.34202014   0.93969262 -98.49199695]\n",
      " [  0.           0.           1.        ]]\n"
     ]
    },
    {
     "data": {
      "application/vnd.jupyter.widget-view+json": {
       "model_id": "72ccca915ac94459b432db47a450fe58",
       "version_major": 2,
       "version_minor": 0
      },
      "text/plain": [
       "Canvas(height=400, sync_image_data=True, width=800)"
      ]
     },
     "execution_count": 3,
     "metadata": {},
     "output_type": "execute_result"
    }
   ],
   "source": [
    "import math\n",
    "\n",
    "def rotate(a=0):\n",
    "    return np.array([\n",
    "        [ math.cos(a), -math.sin(a), 0 ],\n",
    "        [ math.sin(a), math.cos(a),  0 ],\n",
    "        [ 0,           0,            1 ]\n",
    "    ])\n",
    "\n",
    "canvas = Canvas(width=800, height=400, sync_image_data=True)\n",
    "\n",
    "polygon1.render(canvas)\n",
    "polygon2.render(canvas)\n",
    "\n",
    "def rotate_around(a, x, y):\n",
    "    return translate(dx=x, dy=y) @ rotate(math.radians(a)) @ translate(dx=-x, dy=-y)\n",
    "\n",
    "print(rotate_around(20, 325, 210))\n",
    "\n",
    "polygon3.transformations.append(rotate_around(20, 325, 210))\n",
    "polygon3.transform().render(canvas)\n",
    "\n",
    "polygon4.transformations.append(rotate_around(20, 325, 210))\n",
    "polygon4.transform().render(canvas)\n",
    "\n",
    "canvas"
   ]
  },
  {
   "cell_type": "markdown",
   "id": "7bf5aa2d-0574-4cef-8f75-81acfe02285f",
   "metadata": {},
   "source": [
    "## Step 3: Animating a Box\n",
    "\n",
    "With polygons and rotation we have everything needed in place to create a rotating box. To hold all objects and drive the animation, I'm introducing a small World class. I also introduce a Box function, generating a Polygon from left, top, width and height properties."
   ]
  },
  {
   "cell_type": "code",
   "execution_count": 4,
   "id": "0fc3b7c3-2245-48b7-8a1d-26662f2f61cc",
   "metadata": {},
   "outputs": [
    {
     "data": {
      "application/vnd.jupyter.widget-view+json": {
       "model_id": "74660ff7af834fed8e5a58ba20540b5a",
       "version_major": 2,
       "version_minor": 0
      },
      "text/plain": [
       "Canvas(sync_image_data=True, width=800)"
      ]
     },
     "execution_count": 4,
     "metadata": {},
     "output_type": "execute_result"
    }
   ],
   "source": [
    "from ipycanvas import hold_canvas\n",
    "import time\n",
    "\n",
    "def Box(left, top, width, height):\n",
    "    return Polygon([ Vertex(left, top), Vertex(left+width, top), Vertex(left+width, top+height), Vertex(left, top+height) ])\n",
    "\n",
    "@dataclass\n",
    "class Shape:\n",
    "    polygon    : Polygon\n",
    "    animations : List[np.ndarray] = field(default_factory=list)\n",
    "\n",
    "    def move(self):\n",
    "        for animation in self.animations:\n",
    "            self.polygon.apply(animation)\n",
    "\n",
    "    def render(self, canvas):\n",
    "        self.polygon.render(canvas)\n",
    "\n",
    "@dataclass\n",
    "class World:\n",
    "    width  : int         = 800\n",
    "    height : int         = 500\n",
    "    shapes : List[Shape] = field(default_factory=list)\n",
    "    canvas : Canvas      = field(init=False, repr=False, default=None)\n",
    "\n",
    "    def __post_init__(self):\n",
    "        self.canvas = Canvas(width=self.width, height=self.height, sync_image_data=True)\n",
    "    \n",
    "    def _move(self):\n",
    "        for shape in self.shapes:\n",
    "            shape.move()\n",
    "    \n",
    "    def _render(self):\n",
    "        self.canvas.stroke_rect(0, 0, self.width, self.height)\n",
    "        for shape in self.shapes:\n",
    "            shape.render(self.canvas)\n",
    "\n",
    "    def draw(self, iterations=1):\n",
    "        for _ in range(iterations):\n",
    "            self._render()\n",
    "            self._move()\n",
    "        return self.canvas\n",
    "\n",
    "    def animate(self):\n",
    "        display(self.canvas)\n",
    "        while True:\n",
    "            with hold_canvas():\n",
    "                self.canvas.clear()\n",
    "                self._render()\n",
    "                self._move()\n",
    "            time.sleep(0.005)\n",
    "\n",
    "world = World()\n",
    "\n",
    "box = Shape(Box(150, 150, 200, 200))\n",
    "box.animations.append(rotate_around(5, 250, 250))\n",
    "\n",
    "world.shapes.append(box)\n",
    "world.draw(5)\n",
    "# world.animate()\n"
   ]
  },
  {
   "cell_type": "markdown",
   "id": "f4136c9e-b23d-4b8f-ba0a-9620b9c712b0",
   "metadata": {},
   "source": [
    "## Step 4: Collision Detection\n",
    "\n",
    "If we want to have a bouncing ball inside the box, we need to detect when it hits a wall and change its course. In case of basic boxes (e.g. without rotations applied to them) it is pretty easy, yet once rotated, a little more elaborate algorithm is needed.\n",
    "\n",
    "As a strategy, we'll consider that a shape is (still) inside a polygon, if all of its points are inside that polygon. This holds for convex polygons. Maybe later we can expand this to concave polygons too.\n",
    "\n",
    "Later we might also introduce other bouncing shapes. Those can collide into each other. To detect such collisions, we need another algorithm: SAT - the Separating Axis Theorem. This theorem states that two convex polygons are not overlapping if one can draw a line between them. So, given an algorithm that checks if such line exists, we can determine if two convex polygons overlap."
   ]
  },
  {
   "cell_type": "markdown",
   "id": "e62ded8c-4a02-4add-bac3-7604a146189c",
   "metadata": {},
   "source": [
    "### PIP - Point in Polygon\n",
    "\n",
    "To determine if all points of a polygon are inside another (convex) polygon we need a point in polygon algorithm (PIP). This algorithm relies on the fact that a \"ray\" from outside the polygon to a point will intersect a polygon an even number of times when the point lies outside the polygon and an odd number of times when it lies inside.\n",
    "\n",
    "Let's build towards that step by step."
   ]
  },
  {
   "cell_type": "markdown",
   "id": "c62f0f74-59cd-4422-b402-f3175f6f4094",
   "metadata": {},
   "source": [
    "#### Formula for a Line given two points\n",
    "\n",
    "Given two points `(x1, y1) and (x2, y2)`, the line running throught those points is defined by the formula `y =  mx + c`. `m = ((y2 - y1) / (x2 - x1))` and `c` can be computed given one point as `c = y - mx`."
   ]
  },
  {
   "cell_type": "code",
   "execution_count": 5,
   "id": "68362d4b-c467-4771-9430-11fe7f70d43a",
   "metadata": {},
   "outputs": [
    {
     "name": "stdout",
     "output_type": "stream",
     "text": [
      "y = 0.75x + 2.0\n",
      "True\n",
      "y = 0.75x + 2.0 | x in [4, 8]\n",
      "False\n"
     ]
    }
   ],
   "source": [
    "@dataclass\n",
    "class Line:\n",
    "    p1     : Vertex\n",
    "    p2     : Vertex\n",
    "    stroke : str    = \"000000\"\n",
    "\n",
    "    @property\n",
    "    def vertical(self):\n",
    "        return self.p1.x == self.p2.x\n",
    "    \n",
    "    @property\n",
    "    def m(self):\n",
    "        v = self.p2 - self.p1\n",
    "        return v.dy / v.dx\n",
    "\n",
    "    @property\n",
    "    def c(self):\n",
    "        return self.p1.y - self.m * self.p1.x\n",
    "\n",
    "    def __str__(self):\n",
    "        if self.vertical:\n",
    "            return f\"x = {self.x}\"\n",
    "        else:\n",
    "            return f\"y = {self.m}x + {self.c}\"\n",
    "\n",
    "    def render(self, canvas):\n",
    "        canvas.stroke_style = f\"#{self.stroke}\"\n",
    "        if self.vertical:\n",
    "            canvas.stroke_line(self.p1.x, 0, self.p1.x, canvas.height)\n",
    "        else:\n",
    "            canvas.stroke_line(0, self(0), canvas.width, self(canvas.width))\n",
    "    \n",
    "    @property\n",
    "    def f(self):\n",
    "        return lambda x : self.m * x + self.c   \n",
    "    \n",
    "    def __call__(self, x):\n",
    "        return self.f(x)\n",
    "\n",
    "    def intersection(self, other):\n",
    "        if self.vertical and other.vertical:\n",
    "            return None\n",
    "        elif self.vertical:\n",
    "            return Point(self.p1.x, other(self.p1.x))\n",
    "        elif other.vertical:\n",
    "            return Point(other.p1.x, self(other.p1.x))\n",
    "        else:\n",
    "            x = (other.c - self.c) / (self.m - other.m)\n",
    "            return Point(x, self(x))\n",
    "    \n",
    "    def intersects(self, line):\n",
    "        self(line.p1.x) == line.p1.y\n",
    "\n",
    "class Segment(Line):\n",
    "    def __str__(self):\n",
    "        return f\"{super().__str__()} | x in [{self.p1.x}, {self.p2.x}]\"\n",
    "\n",
    "    def render(self, canvas):\n",
    "        canvas.stroke_style = f\"#{self.stroke}\"\n",
    "        canvas.stroke_line(self.p1.x, self.p1.y, self.p2.x, self.p2.y)\n",
    "    \n",
    "    def __call__(self, x):\n",
    "        if (x < min(self.p1.x, self.p2.x)) or (max(self.p1.x, self.p2.x) < x):\n",
    "            return None\n",
    "        y = super().__call__(x)\n",
    "        if (y < min(self.p1.y, self.p2.y)) or (max(self.p1.y, self.p2.y) < y):\n",
    "            return None\n",
    "        return y\n",
    "\n",
    "    def intersection(self, other):\n",
    "        p = super().intersection(other)\n",
    "        if not p.x or not p.y:\n",
    "            return None\n",
    "        if (p.x < min(self.p1.x, self.p2.x)) or (max(self.p1.x, self.p2.x) < p.x):\n",
    "            return None\n",
    "        if (p.y < min(self.p1.y, self.p2.y)) or (max(self.p1.y, self.p2.y) < p.y):\n",
    "            return None\n",
    "        return p\n",
    "\n",
    "p1 = Vertex(4, 5)\n",
    "p2 = Vertex(8, 8)\n",
    "\n",
    "# let's see if (6, 6.5) is on a line through p1 and p2\n",
    "p3 = Vertex(3, 4.25)\n",
    "\n",
    "line = Line(p1, p2)\n",
    "print(line)\n",
    "print(line(p3.x) == p3.y)\n",
    "\n",
    "# does it also lie on the segment through p1 and p2\n",
    "segment = Segment(p1, p2)\n",
    "print(segment)\n",
    "print(segment(p3.x) == p3.y)"
   ]
  },
  {
   "cell_type": "markdown",
   "id": "e55253d3-1903-48f0-bc65-2bc84f22a5c3",
   "metadata": {},
   "source": [
    "Given the math above, we can determine if a point is on a line segment, or an edge for that matter. So how can we use that to check if a ray through a point intersects with that edge?\n",
    "\n",
    "We can take, for example, the vertical line through the point, the intersection point of that line and the edge and check the if that intersection is within the Y boundaries of the segment:"
   ]
  },
  {
   "cell_type": "code",
   "execution_count": 6,
   "id": "26d0165f-419f-48c7-833a-1201435623a0",
   "metadata": {},
   "outputs": [
    {
     "data": {
      "application/vnd.jupyter.widget-view+json": {
       "model_id": "614e389d4ec2433b880fa359278d978e",
       "version_major": 2,
       "version_minor": 0
      },
      "text/plain": [
       "Canvas(height=400, sync_image_data=True, width=800)"
      ]
     },
     "execution_count": 6,
     "metadata": {},
     "output_type": "execute_result"
    }
   ],
   "source": [
    "canvas = Canvas(width=800, height=400, sync_image_data=True)\n",
    "\n",
    "polygon1 = Polygon([ Vertex(100, 100), Vertex(150, 240),Vertex(50, 370) ])\n",
    "polygon1.render(canvas)\n",
    "\n",
    "polygon2 = Polygon([ Vertex(120, 120), Vertex(250, 50),Vertex(200, 270) ])\n",
    "polygon2.render(canvas)\n",
    "\n",
    "@dataclass\n",
    "class Circle:\n",
    "    center : Point\n",
    "    radius : float\n",
    "    stroke          : str              = \"000000\"\n",
    "    fill            : str              = None\n",
    "\n",
    "    def render(self, canvas):\n",
    "        if self.fill:\n",
    "            canvas.fill_style   = f\"#{self.fill}\"\n",
    "            canvas.fill_circle(self.center.x, self.center.y, self.radius)\n",
    "\n",
    "        if self.stroke:\n",
    "            canvas.stroke_style = f\"#{self.stroke}\"\n",
    "            canvas.stroke_circle(self.center.x, self.center.y, self.radius)\n",
    "\n",
    "p = Point(130, 225)\n",
    "\n",
    "vertical = Segment(Vertex(p.x, 0), p, stroke=\"0000ff\")\n",
    "vertical.render(canvas)\n",
    "\n",
    "Circle(p, 5, fill=\"ffcc00\", stroke=None).render(canvas)\n",
    "\n",
    "def edges(polygon):\n",
    "    return [\n",
    "        Segment(v1, v2)\n",
    "        for v1, v2 in list(zip(polygon.vertices, polygon.vertices[1:])) + [(polygon.vertices[-1], polygon.vertices[0])]\n",
    "    ]\n",
    "\n",
    "def intersections(polygon, segment):\n",
    "    for edge in edges(polygon):\n",
    "        intersection = segment.intersection(edge)\n",
    "        if intersection:\n",
    "            yield intersection\n",
    "\n",
    "[ Circle(p, 5, fill=\"00ff00\", stroke=None).render(canvas) for p in intersections(polygon1, vertical) ]\n",
    "[ Circle(p, 5, fill=\"ff0000\", stroke=None).render(canvas) for p in intersections(polygon2, vertical) ]\n",
    "\n",
    "canvas"
   ]
  },
  {
   "cell_type": "markdown",
   "id": "70e5f41f-6755-4bda-9631-39a6f4920231",
   "metadata": {},
   "source": [
    "### SAT - Separating Axis Theorem\n",
    "\n",
    "Given two points: `p1 = (4,5)` and `p2 = (8,8)`, vector `v = p2 - p1 = (4,3)`. The perpendicular vector is then `vp = (-3,4)`. The length or magnitude of the vector is determined by `sqrt(-3^2 + 4^2) = 5`. Normalizing the vector is done by dividing its components by its magnitude: `vpn = (-3/5, 4/5)`. Finally, given two vectors, we can project one onto the other using the dot product: `A . B = Sum(AiBi)`. So given `ex = (1, 0)` the dot product `vpn . ex = -3/5 + 0 = -3/5 = -0,6`."
   ]
  },
  {
   "cell_type": "code",
   "execution_count": 13,
   "id": "b0f79d55-3a58-4ff2-8eef-f8b3ee3ee331",
   "metadata": {},
   "outputs": [
    {
     "data": {
      "text/plain": [
       "-0.6"
      ]
     },
     "execution_count": 13,
     "metadata": {},
     "output_type": "execute_result"
    }
   ],
   "source": [
    "p1 = Point(4, 5)\n",
    "p2 = Point(8, 8)\n",
    "v  = p2 - p1\n",
    "\n",
    "def perpendicular(v):\n",
    "    return Vector(v.dy * -1, v.dx)\n",
    "\n",
    "vp = perpendicular(v)\n",
    "\n",
    "def normalize(v):\n",
    "    norm = np.linalg.norm(tuple(v))\n",
    "    if norm == 0: \n",
    "       return v\n",
    "    return v / norm\n",
    "\n",
    "vpn = normalize(vp)\n",
    "\n",
    "ex = np.array([1,0])\n",
    "\n",
    "np.dot(tuple(vpn), ex)"
   ]
  },
  {
   "cell_type": "markdown",
   "id": "700ef2c4-6403-46a9-9087-8362432ed5cb",
   "metadata": {},
   "source": [
    "Construct a list of all normalized vectors perpendicular to all edges and project all vertices of each polygon onto those vectors, keeping the minimum and maximum and checking if the projections overlap. If not, there is a separating axis and they don't overlap."
   ]
  },
  {
   "cell_type": "code",
   "execution_count": 8,
   "id": "48b56544-1434-4dd6-993e-c383e7350830",
   "metadata": {},
   "outputs": [
    {
     "name": "stdout",
     "output_type": "stream",
     "text": [
      "[Segment(p1=Vertex(x=100, y=100), p2=Vertex(x=150, y=240), stroke='000000'), Segment(p1=Vertex(x=150, y=240), p2=Vertex(x=50, y=370), stroke='000000'), Segment(p1=Vertex(x=50, y=370), p2=Vertex(x=100, y=100), stroke='000000')]\n",
      "[Segment(p1=Vertex(x=120, y=120), p2=Vertex(x=250, y=50), stroke='000000'), Segment(p1=Vertex(x=250, y=50), p2=Vertex(x=200, y=270), stroke='000000'), Segment(p1=Vertex(x=200, y=270), p2=Vertex(x=120, y=120), stroke='000000')]\n"
     ]
    }
   ],
   "source": [
    "print(edges(polygon1))\n",
    "print(edges(polygon2))"
   ]
  },
  {
   "cell_type": "code",
   "execution_count": 15,
   "id": "ce8d6583-7c4e-4eea-9b5a-ebb53b9d7717",
   "metadata": {},
   "outputs": [
    {
     "data": {
      "text/plain": [
       "[Vector(dx=0.9417419115948374, dy=-0.33633639699815626),\n",
       " Vector(dx=0.7926239891046001, dy=0.6097107608496924),\n",
       " Vector(dx=-0.9832820049844602, dy=-0.18208926018230745),\n",
       " Vector(dx=-0.47409982303501746, dy=-0.8804710999221753),\n",
       " Vector(dx=0.9751328557914597, dy=0.2216211035889681),\n",
       " Vector(dx=-0.8823529411764706, dy=0.47058823529411764)]"
      ]
     },
     "execution_count": 15,
     "metadata": {},
     "output_type": "execute_result"
    }
   ],
   "source": [
    "def perpendicular_edge_vectors(polygon):\n",
    "    return [ normalize(perpendicular(edge.p1 - edge.p2)) for edge in edges(polygon) ]\n",
    "\n",
    "pevs = perpendicular_edge_vectors(polygon1) + perpendicular_edge_vectors(polygon2)\n",
    "pevs"
   ]
  },
  {
   "cell_type": "code",
   "execution_count": 17,
   "id": "056a39a8-7e0b-44c2-9a7a-8cd94e7d3fa1",
   "metadata": {},
   "outputs": [
    {
     "data": {
      "text/plain": [
       "[((-77.35737130957595, 60.54055145966812),\n",
       "  (72.64866175160174, 218.61865804880156)),\n",
       " ((140.23347499542925, 265.2241809696162),\n",
       "  (168.2801699945151, 323.146703250337)),\n",
       " ((-191.1937231914228, -116.53712651667676),\n",
       "  (-254.9249642552304, -139.84455182001213)),\n",
       " ((-349.47929812295575, -135.4570922957193),\n",
       "  (-332.5471615859908, -162.54851075486312)),\n",
       " ((119.67539593804278, 199.4589932300713),\n",
       "  (143.61047512565133, 254.86426912731335)),\n",
       " ((-41.1764705882353, 130.0), (-197.05882352941177, -49.41176470588235))]"
      ]
     },
     "execution_count": 17,
     "metadata": {},
     "output_type": "execute_result"
    }
   ],
   "source": [
    "def project(polygon, pev):\n",
    "    projections = [ np.dot(tuple(vertex), tuple(pev)) for vertex in polygon.vertices ]\n",
    "    return ( min(projections), max(projections) )\n",
    "\n",
    "[ (project(polygon1, pev), project(polygon2, pev)) for pev in pevs ]"
   ]
  },
  {
   "cell_type": "code",
   "execution_count": 18,
   "id": "a3882f0f-b384-4cd4-a0ed-91d31ad8540f",
   "metadata": {},
   "outputs": [
    {
     "name": "stdout",
     "output_type": "stream",
     "text": [
      "False\n",
      "True\n"
     ]
    }
   ],
   "source": [
    "def projections_overlap(p1, p2):\n",
    "    \"\"\"\n",
    "      p1    - .......... +\n",
    "      p2           - .......... +\n",
    "      overlapping if p1_min in p2 or p2_min in p1\n",
    "    \"\"\"\n",
    "    return ( p1[0] < p2[1] and p1[0] > p2[0] ) or ( p2[0] < p1[1] and p2[0] > p1[0] )\n",
    "\n",
    "print(projections_overlap( project(polygon1, pevs[0]), project(polygon2, pevs[0]) ))\n",
    "print(projections_overlap( project(polygon1, pevs[4]), project(polygon2, pevs[4]) ))"
   ]
  },
  {
   "cell_type": "code",
   "execution_count": 19,
   "id": "74db6b8a-9dd6-4a7b-8365-8cae5b236515",
   "metadata": {},
   "outputs": [
    {
     "name": "stdout",
     "output_type": "stream",
     "text": [
      "[False, True, True, True, True, False]\n",
      "[True, True, True, True, True, True]\n"
     ]
    }
   ],
   "source": [
    "def polygons_overlap(poly1, poly2):\n",
    "    \"\"\"\n",
    "    simple implementation computing all overlaps, while we could stop as soon as we found 1\n",
    "    \"\"\"\n",
    "    pevs = perpendicular_edge_vectors(poly1) + perpendicular_edge_vectors(poly2)\n",
    "    return [ projections_overlap( project(poly1, pev), project(poly2, pev) ) for pev in pevs ]\n",
    "\n",
    "print(polygons_overlap(polygon1, polygon2))\n",
    "print(polygons_overlap(polygon3, polygon4))"
   ]
  }
 ],
 "metadata": {
  "kernelspec": {
   "display_name": "Python 3 (ipykernel)",
   "language": "python",
   "name": "python3"
  },
  "language_info": {
   "codemirror_mode": {
    "name": "ipython",
    "version": 3
   },
   "file_extension": ".py",
   "mimetype": "text/x-python",
   "name": "python",
   "nbconvert_exporter": "python",
   "pygments_lexer": "ipython3",
   "version": "3.8.12"
  }
 },
 "nbformat": 4,
 "nbformat_minor": 5
}
