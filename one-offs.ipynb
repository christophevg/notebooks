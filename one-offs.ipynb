{
 "cells": [
  {
   "cell_type": "markdown",
   "id": "13174750-4a26-4b33-a333-649adf52c42d",
   "metadata": {},
   "source": [
    "# One-Offs\n",
    "> various experiments with small scope\n",
    "> mostly little things found online to try out"
   ]
  },
  {
   "cell_type": "code",
   "execution_count": 12,
   "id": "203adfc9-aca7-4c0f-9e95-c3d995851a8d",
   "metadata": {},
   "outputs": [
    {
     "name": "stdout",
     "output_type": "stream",
     "text": [
      "+--------------+--------------------+----+\n",
      "| taacbajfgaaa | ['aa', 'a', 'aaa'] | ✅ |\n",
      "+--------------+--------------------+----+\n",
      "| adfeaax      | ['a', 'aa']        | ✅ |\n",
      "+--------------+--------------------+----+\n",
      "|              | []                 | ✅ |\n",
      "+--------------+--------------------+----+\n",
      "| aaa          | ['aaa']            | ✅ |\n",
      "+--------------+--------------------+----+\n"
     ]
    }
   ],
   "source": [
    "from tabulate import tabulate\n",
    "\n",
    "tests = [\n",
    "    (\"taacbajfgaaa\", [\"aa\", \"a\", \"aaa\" ]),\n",
    "    (\"adfeaax\",      [\"a\", \"aa\" ]),\n",
    "    (\"\",             []),\n",
    "    (\"aaa\",          [\"aaa\"])\n",
    "]\n",
    "def split_groups(string, grouping_char=\"a\"):\n",
    "    \"\"\"\n",
    "    generator that splits a string by a grouping character,\n",
    "    yielding groups of that character, omitting all other\n",
    "    \"\"\"\n",
    "    length = 0\n",
    "    for char in string:\n",
    "        if char == grouping_char:\n",
    "            length += 1\n",
    "        elif length > 0:\n",
    "            yield grouping_char * length\n",
    "            length = 0\n",
    "    if length > 0:\n",
    "        yield grouping_char * length\n",
    "\n",
    "print(tabulate([\n",
    "    [input, expected,\"✅\" if list(split_groups(input)) == expected else \"🛑\" ]\n",
    "    for input, expected in tests\n",
    "], tablefmt=\"grid\"))\n"
   ]
  },
  {
   "cell_type": "code",
   "execution_count": null,
   "id": "aa813d21-6844-4c5e-ac09-840a732624aa",
   "metadata": {},
   "outputs": [],
   "source": []
  }
 ],
 "metadata": {
  "kernelspec": {
   "display_name": "Python 3 (ipykernel)",
   "language": "python",
   "name": "python3"
  },
  "language_info": {
   "codemirror_mode": {
    "name": "ipython",
    "version": 3
   },
   "file_extension": ".py",
   "mimetype": "text/x-python",
   "name": "python",
   "nbconvert_exporter": "python",
   "pygments_lexer": "ipython3",
   "version": "3.8.12"
  }
 },
 "nbformat": 4,
 "nbformat_minor": 5
}
